{
  "nbformat": 4,
  "nbformat_minor": 0,
  "metadata": {
    "orig_nbformat": 2,
    "file_extension": ".py",
    "mimetype": "text/x-python",
    "name": "python",
    "npconvert_exporter": "python",
    "pygments_lexer": "ipython3",
    "version": 3,
    "colab": {
      "name": "Coursework.ipynb",
      "provenance": [],
      "toc_visible": true
    },
    "kernelspec": {
      "name": "python3",
      "display_name": "Python 3"
    }
  },
  "cells": [
    {
      "cell_type": "markdown",
      "metadata": {
        "id": "3hUMoKuKcKPg",
        "colab_type": "text"
      },
      "source": [
        "# Deep Learning Coursework\n"
      ]
    },
    {
      "cell_type": "code",
      "metadata": {
        "id": "4sCe1L01cRpf",
        "colab_type": "code",
        "colab": {
          "base_uri": "https://localhost:8080/",
          "height": 71
        },
        "outputId": "20299e19-7ef6-4535-b873-454850ae72d4"
      },
      "source": [
        "## Load data from Google Drive\n",
        "from google.colab import drive # import drive from google colab\n",
        "\n",
        "ROOT = \"/content/drive\" \n",
        "drive.mount(ROOT)\n",
        "print(ROOT)"
      ],
      "execution_count": 3,
      "outputs": [
        {
          "output_type": "stream",
          "text": [
            "Drive already mounted at /content/drive; to attempt to forcibly remount, call drive.mount(\"/content/drive\", force_remount=True).\n",
            "/content/drive\n"
          ],
          "name": "stdout"
        }
      ]
    },
    {
      "cell_type": "code",
      "metadata": {
        "id": "GSNsAKw6dXlX",
        "colab_type": "code",
        "colab": {
          "base_uri": "https://localhost:8080/",
          "height": 119
        },
        "outputId": "183c9bf0-1b4e-43f1-995d-5c02050bf669"
      },
      "source": [
        "local_data = './cat_dog' \n",
        "!mkdir $local_data #Create a local directory for download\n",
        "!gsutil ls -d gs://data_repository\n",
        "!gsutil cp -r gs://data_repository/dogs-vs-cats-redux-kernels-edition/ $local_data"
      ],
      "execution_count": 21,
      "outputs": [
        {
          "output_type": "stream",
          "text": [
            "gs://data_repository/dogs-vs-cats-redux-kernels-edition/\n",
            "Copying gs://data_repository/dogs-vs-cats-redux-kernels-edition/sample_submission.csv...\n",
            "Copying gs://data_repository/dogs-vs-cats-redux-kernels-edition/test.zip...\n",
            "Copying gs://data_repository/dogs-vs-cats-redux-kernels-edition/train.zip...\n",
            "| [3 files][814.9 MiB/814.9 MiB]   65.5 MiB/s                                   \n",
            "Operation completed over 3 objects/814.9 MiB.                                    \n"
          ],
          "name": "stdout"
        }
      ]
    },
    {
      "cell_type": "code",
      "metadata": {
        "id": "4Wa8Z92UqQBj",
        "colab_type": "code",
        "colab": {
          "base_uri": "https://localhost:8080/",
          "height": 34
        },
        "outputId": "89252b8b-9c0a-427a-9ab4-81267c04110f"
      },
      "source": [
        "!ls cat_dog/dogs-vs-cats-redux-kernels-edition"
      ],
      "execution_count": 26,
      "outputs": [
        {
          "output_type": "stream",
          "text": [
            "sample_submission.csv  test.zip  train.zip\n"
          ],
          "name": "stdout"
        }
      ]
    },
    {
      "cell_type": "code",
      "metadata": {
        "id": "LhYT3KCs1Wkp",
        "colab_type": "code",
        "colab": {}
      },
      "source": [
        ""
      ],
      "execution_count": 0,
      "outputs": []
    }
  ]
}