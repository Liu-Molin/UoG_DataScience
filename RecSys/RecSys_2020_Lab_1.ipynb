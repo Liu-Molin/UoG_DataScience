{
  "nbformat": 4,
  "nbformat_minor": 0,
  "metadata": {
    "colab": {
      "name": "Copy of RecSys 2020 - Lab 1",
      "provenance": [],
      "collapsed_sections": [],
      "machine_shape": "hm"
    },
    "kernelspec": {
      "name": "python3",
      "display_name": "Python 3"
    },
    "accelerator": "GPU"
  },
  "cells": [
    {
      "cell_type": "markdown",
      "metadata": {
        "id": "zMRJzJXdfkNv",
        "colab_type": "text"
      },
      "source": [
        "#Lab 1\n",
        "\n",
        "The **aims** of this lab are:\n",
        "\n",
        "*   Allow you practice slicing and analysing data with Pandas\n",
        "*   Introduce you to the MovieLens dataset\n",
        "*   Demonstrate use of Pandas to perform non-personalised recommendations\n",
        "\n",
        "This lab makes the following **assumptions**:\n",
        "\n",
        " * You have experience before in using Pandas, e.g. from Text-as-Data or from Programming and Systems Development (H).\n",
        "\n",
        "This lab is unassessed, but please complete the [Moodle feedback quiz](https://moodle.gla.ac.uk/mod/feedback/view.php?id=1441777) once you have finished your attempt at this lab.\n",
        " "
      ]
    },
    {
      "cell_type": "code",
      "metadata": {
        "id": "D0FCwi-bIytL",
        "colab_type": "code",
        "colab": {}
      },
      "source": [
        "#Standard setup\n",
        "import pandas as pd\n",
        "import numpy as np"
      ],
      "execution_count": 0,
      "outputs": []
    },
    {
      "cell_type": "markdown",
      "metadata": {
        "id": "uTkyfA-p51Oi",
        "colab_type": "text"
      },
      "source": [
        "#Part 1 - MovieLens Exploration using Pandas\n",
        "\n",
        "This lab will be using the [Movielens](https://grouplens.org/datasets/movielens/) data. There is a large dataset with 20M ratings. We'll focus on the small one.  \n",
        "\n",
        "**Hint** : If you are using Colab, it might be good if you have this open on your own machine. The CSV files are small enough to be searched using your favourite editor."
      ]
    },
    {
      "cell_type": "code",
      "metadata": {
        "id": "Hq-oSeM344Ca",
        "colab_type": "code",
        "outputId": "fe0e3d76-e51f-484f-b843-4e31703c6aa5",
        "colab": {
          "base_uri": "https://localhost:8080/",
          "height": 187
        }
      },
      "source": [
        "!curl -o ml-latest-small.zip http://files.grouplens.org/datasets/movielens/ml-latest-small.zip\n",
        "!unzip -o ml-latest-small.zip"
      ],
      "execution_count": 0,
      "outputs": [
        {
          "output_type": "stream",
          "text": [
            "  % Total    % Received % Xferd  Average Speed   Time    Time     Time  Current\n",
            "                                 Dload  Upload   Total   Spent    Left  Speed\n",
            "\r  0     0    0     0    0     0      0      0 --:--:-- --:--:-- --:--:--     0\r  0     0    0     0    0     0      0      0 --:--:-- --:--:-- --:--:--     0\r100  955k  100  955k    0     0  2269k      0 --:--:-- --:--:-- --:--:-- 2263k\n",
            "Archive:  ml-latest-small.zip\n",
            "   creating: ml-latest-small/\n",
            "  inflating: ml-latest-small/links.csv  \n",
            "  inflating: ml-latest-small/tags.csv  \n",
            "  inflating: ml-latest-small/ratings.csv  \n",
            "  inflating: ml-latest-small/README.txt  \n",
            "  inflating: ml-latest-small/movies.csv  \n"
          ],
          "name": "stdout"
        }
      ]
    },
    {
      "cell_type": "markdown",
      "metadata": {
        "id": "idTYNpH-6Pr3",
        "colab_type": "text"
      },
      "source": [
        "Let's look into the files using Pandas:"
      ]
    },
    {
      "cell_type": "code",
      "metadata": {
        "id": "-PWv4cz-4_7B",
        "colab_type": "code",
        "colab": {}
      },
      "source": [
        "\n",
        "ratings_df = pd.read_csv(\"ml-latest-small/ratings.csv\")\n",
        "movies_df = pd.read_csv(\"ml-latest-small/movies.csv\")\n",
        "\n"
      ],
      "execution_count": 0,
      "outputs": []
    },
    {
      "cell_type": "code",
      "metadata": {
        "id": "0R-tZogo5Uhn",
        "colab_type": "code",
        "outputId": "c590f5e3-7de2-40a2-bb3b-1954c0c917ea",
        "colab": {
          "base_uri": "https://localhost:8080/",
          "height": 419
        }
      },
      "source": [
        "ratings_df"
      ],
      "execution_count": 0,
      "outputs": [
        {
          "output_type": "execute_result",
          "data": {
            "text/html": [
              "<div>\n",
              "<style scoped>\n",
              "    .dataframe tbody tr th:only-of-type {\n",
              "        vertical-align: middle;\n",
              "    }\n",
              "\n",
              "    .dataframe tbody tr th {\n",
              "        vertical-align: top;\n",
              "    }\n",
              "\n",
              "    .dataframe thead th {\n",
              "        text-align: right;\n",
              "    }\n",
              "</style>\n",
              "<table border=\"1\" class=\"dataframe\">\n",
              "  <thead>\n",
              "    <tr style=\"text-align: right;\">\n",
              "      <th></th>\n",
              "      <th>userId</th>\n",
              "      <th>movieId</th>\n",
              "      <th>rating</th>\n",
              "      <th>timestamp</th>\n",
              "    </tr>\n",
              "  </thead>\n",
              "  <tbody>\n",
              "    <tr>\n",
              "      <th>0</th>\n",
              "      <td>1</td>\n",
              "      <td>1</td>\n",
              "      <td>4.0</td>\n",
              "      <td>964982703</td>\n",
              "    </tr>\n",
              "    <tr>\n",
              "      <th>1</th>\n",
              "      <td>1</td>\n",
              "      <td>3</td>\n",
              "      <td>4.0</td>\n",
              "      <td>964981247</td>\n",
              "    </tr>\n",
              "    <tr>\n",
              "      <th>2</th>\n",
              "      <td>1</td>\n",
              "      <td>6</td>\n",
              "      <td>4.0</td>\n",
              "      <td>964982224</td>\n",
              "    </tr>\n",
              "    <tr>\n",
              "      <th>3</th>\n",
              "      <td>1</td>\n",
              "      <td>47</td>\n",
              "      <td>5.0</td>\n",
              "      <td>964983815</td>\n",
              "    </tr>\n",
              "    <tr>\n",
              "      <th>4</th>\n",
              "      <td>1</td>\n",
              "      <td>50</td>\n",
              "      <td>5.0</td>\n",
              "      <td>964982931</td>\n",
              "    </tr>\n",
              "    <tr>\n",
              "      <th>...</th>\n",
              "      <td>...</td>\n",
              "      <td>...</td>\n",
              "      <td>...</td>\n",
              "      <td>...</td>\n",
              "    </tr>\n",
              "    <tr>\n",
              "      <th>100831</th>\n",
              "      <td>610</td>\n",
              "      <td>166534</td>\n",
              "      <td>4.0</td>\n",
              "      <td>1493848402</td>\n",
              "    </tr>\n",
              "    <tr>\n",
              "      <th>100832</th>\n",
              "      <td>610</td>\n",
              "      <td>168248</td>\n",
              "      <td>5.0</td>\n",
              "      <td>1493850091</td>\n",
              "    </tr>\n",
              "    <tr>\n",
              "      <th>100833</th>\n",
              "      <td>610</td>\n",
              "      <td>168250</td>\n",
              "      <td>5.0</td>\n",
              "      <td>1494273047</td>\n",
              "    </tr>\n",
              "    <tr>\n",
              "      <th>100834</th>\n",
              "      <td>610</td>\n",
              "      <td>168252</td>\n",
              "      <td>5.0</td>\n",
              "      <td>1493846352</td>\n",
              "    </tr>\n",
              "    <tr>\n",
              "      <th>100835</th>\n",
              "      <td>610</td>\n",
              "      <td>170875</td>\n",
              "      <td>3.0</td>\n",
              "      <td>1493846415</td>\n",
              "    </tr>\n",
              "  </tbody>\n",
              "</table>\n",
              "<p>100836 rows × 4 columns</p>\n",
              "</div>"
            ],
            "text/plain": [
              "        userId  movieId  rating   timestamp\n",
              "0            1        1     4.0   964982703\n",
              "1            1        3     4.0   964981247\n",
              "2            1        6     4.0   964982224\n",
              "3            1       47     5.0   964983815\n",
              "4            1       50     5.0   964982931\n",
              "...        ...      ...     ...         ...\n",
              "100831     610   166534     4.0  1493848402\n",
              "100832     610   168248     5.0  1493850091\n",
              "100833     610   168250     5.0  1494273047\n",
              "100834     610   168252     5.0  1493846352\n",
              "100835     610   170875     3.0  1493846415\n",
              "\n",
              "[100836 rows x 4 columns]"
            ]
          },
          "metadata": {
            "tags": []
          },
          "execution_count": 5
        }
      ]
    },
    {
      "cell_type": "markdown",
      "metadata": {
        "id": "MDR2Wx1qvddn",
        "colab_type": "text"
      },
      "source": [
        "Ok, so we can see users (identified by userId) are rating various movies (cf. movieId).\n",
        "\n",
        "We can slice and dice the dataframes, e.g.\n",
        "\n",
        " * project a single column"
      ]
    },
    {
      "cell_type": "code",
      "metadata": {
        "id": "55fuLJUXvl7z",
        "colab_type": "code",
        "outputId": "73064b15-ca5d-4d97-8068-e285a88686e1",
        "colab": {
          "base_uri": "https://localhost:8080/",
          "height": 221
        }
      },
      "source": [
        "movies_df[\"title\"]"
      ],
      "execution_count": 0,
      "outputs": [
        {
          "output_type": "execute_result",
          "data": {
            "text/plain": [
              "0                                Toy Story (1995)\n",
              "1                                  Jumanji (1995)\n",
              "2                         Grumpier Old Men (1995)\n",
              "3                        Waiting to Exhale (1995)\n",
              "4              Father of the Bride Part II (1995)\n",
              "                          ...                    \n",
              "9737    Black Butler: Book of the Atlantic (2017)\n",
              "9738                 No Game No Life: Zero (2017)\n",
              "9739                                 Flint (2017)\n",
              "9740          Bungo Stray Dogs: Dead Apple (2018)\n",
              "9741          Andrew Dice Clay: Dice Rules (1991)\n",
              "Name: title, Length: 9742, dtype: object"
            ]
          },
          "metadata": {
            "tags": []
          },
          "execution_count": 6
        }
      ]
    },
    {
      "cell_type": "markdown",
      "metadata": {
        "id": "fbFbiqKewD5p",
        "colab_type": "text"
      },
      "source": [
        " - project multiple columns"
      ]
    },
    {
      "cell_type": "code",
      "metadata": {
        "id": "Jcve9Xpgv_E0",
        "colab_type": "code",
        "outputId": "423e9ea8-3c4c-4f97-c5fd-7f6053ced015",
        "colab": {
          "base_uri": "https://localhost:8080/",
          "height": 419
        }
      },
      "source": [
        "movies_df[[\"movieId\", \"title\"]]"
      ],
      "execution_count": 0,
      "outputs": [
        {
          "output_type": "execute_result",
          "data": {
            "text/html": [
              "<div>\n",
              "<style scoped>\n",
              "    .dataframe tbody tr th:only-of-type {\n",
              "        vertical-align: middle;\n",
              "    }\n",
              "\n",
              "    .dataframe tbody tr th {\n",
              "        vertical-align: top;\n",
              "    }\n",
              "\n",
              "    .dataframe thead th {\n",
              "        text-align: right;\n",
              "    }\n",
              "</style>\n",
              "<table border=\"1\" class=\"dataframe\">\n",
              "  <thead>\n",
              "    <tr style=\"text-align: right;\">\n",
              "      <th></th>\n",
              "      <th>movieId</th>\n",
              "      <th>title</th>\n",
              "    </tr>\n",
              "  </thead>\n",
              "  <tbody>\n",
              "    <tr>\n",
              "      <th>0</th>\n",
              "      <td>1</td>\n",
              "      <td>Toy Story (1995)</td>\n",
              "    </tr>\n",
              "    <tr>\n",
              "      <th>1</th>\n",
              "      <td>2</td>\n",
              "      <td>Jumanji (1995)</td>\n",
              "    </tr>\n",
              "    <tr>\n",
              "      <th>2</th>\n",
              "      <td>3</td>\n",
              "      <td>Grumpier Old Men (1995)</td>\n",
              "    </tr>\n",
              "    <tr>\n",
              "      <th>3</th>\n",
              "      <td>4</td>\n",
              "      <td>Waiting to Exhale (1995)</td>\n",
              "    </tr>\n",
              "    <tr>\n",
              "      <th>4</th>\n",
              "      <td>5</td>\n",
              "      <td>Father of the Bride Part II (1995)</td>\n",
              "    </tr>\n",
              "    <tr>\n",
              "      <th>...</th>\n",
              "      <td>...</td>\n",
              "      <td>...</td>\n",
              "    </tr>\n",
              "    <tr>\n",
              "      <th>9737</th>\n",
              "      <td>193581</td>\n",
              "      <td>Black Butler: Book of the Atlantic (2017)</td>\n",
              "    </tr>\n",
              "    <tr>\n",
              "      <th>9738</th>\n",
              "      <td>193583</td>\n",
              "      <td>No Game No Life: Zero (2017)</td>\n",
              "    </tr>\n",
              "    <tr>\n",
              "      <th>9739</th>\n",
              "      <td>193585</td>\n",
              "      <td>Flint (2017)</td>\n",
              "    </tr>\n",
              "    <tr>\n",
              "      <th>9740</th>\n",
              "      <td>193587</td>\n",
              "      <td>Bungo Stray Dogs: Dead Apple (2018)</td>\n",
              "    </tr>\n",
              "    <tr>\n",
              "      <th>9741</th>\n",
              "      <td>193609</td>\n",
              "      <td>Andrew Dice Clay: Dice Rules (1991)</td>\n",
              "    </tr>\n",
              "  </tbody>\n",
              "</table>\n",
              "<p>9742 rows × 2 columns</p>\n",
              "</div>"
            ],
            "text/plain": [
              "      movieId                                      title\n",
              "0           1                           Toy Story (1995)\n",
              "1           2                             Jumanji (1995)\n",
              "2           3                    Grumpier Old Men (1995)\n",
              "3           4                   Waiting to Exhale (1995)\n",
              "4           5         Father of the Bride Part II (1995)\n",
              "...       ...                                        ...\n",
              "9737   193581  Black Butler: Book of the Atlantic (2017)\n",
              "9738   193583               No Game No Life: Zero (2017)\n",
              "9739   193585                               Flint (2017)\n",
              "9740   193587        Bungo Stray Dogs: Dead Apple (2018)\n",
              "9741   193609        Andrew Dice Clay: Dice Rules (1991)\n",
              "\n",
              "[9742 rows x 2 columns]"
            ]
          },
          "metadata": {
            "tags": []
          },
          "execution_count": 7
        }
      ]
    },
    {
      "cell_type": "markdown",
      "metadata": {
        "id": "sm0zU1rywGzv",
        "colab_type": "text"
      },
      "source": [
        " - Select rows based on one or more conditions"
      ]
    },
    {
      "cell_type": "code",
      "metadata": {
        "id": "0jnBvzK1wPE5",
        "colab_type": "code",
        "outputId": "5056328d-c097-4726-f585-36649f4e99a5",
        "colab": {
          "base_uri": "https://localhost:8080/",
          "height": 576
        }
      },
      "source": [
        "ratings_df[(ratings_df[\"userId\"] == 500) & (ratings_df[\"rating\"] == 1)]"
      ],
      "execution_count": 0,
      "outputs": [
        {
          "output_type": "execute_result",
          "data": {
            "text/html": [
              "<div>\n",
              "<style scoped>\n",
              "    .dataframe tbody tr th:only-of-type {\n",
              "        vertical-align: middle;\n",
              "    }\n",
              "\n",
              "    .dataframe tbody tr th {\n",
              "        vertical-align: top;\n",
              "    }\n",
              "\n",
              "    .dataframe thead th {\n",
              "        text-align: right;\n",
              "    }\n",
              "</style>\n",
              "<table border=\"1\" class=\"dataframe\">\n",
              "  <thead>\n",
              "    <tr style=\"text-align: right;\">\n",
              "      <th></th>\n",
              "      <th>userId</th>\n",
              "      <th>movieId</th>\n",
              "      <th>rating</th>\n",
              "      <th>timestamp</th>\n",
              "    </tr>\n",
              "  </thead>\n",
              "  <tbody>\n",
              "    <tr>\n",
              "      <th>79908</th>\n",
              "      <td>500</td>\n",
              "      <td>11</td>\n",
              "      <td>1.0</td>\n",
              "      <td>1005528017</td>\n",
              "    </tr>\n",
              "    <tr>\n",
              "      <th>79909</th>\n",
              "      <td>500</td>\n",
              "      <td>39</td>\n",
              "      <td>1.0</td>\n",
              "      <td>1005527926</td>\n",
              "    </tr>\n",
              "    <tr>\n",
              "      <th>79910</th>\n",
              "      <td>500</td>\n",
              "      <td>101</td>\n",
              "      <td>1.0</td>\n",
              "      <td>1005527980</td>\n",
              "    </tr>\n",
              "    <tr>\n",
              "      <th>79915</th>\n",
              "      <td>500</td>\n",
              "      <td>231</td>\n",
              "      <td>1.0</td>\n",
              "      <td>1005528039</td>\n",
              "    </tr>\n",
              "    <tr>\n",
              "      <th>79923</th>\n",
              "      <td>500</td>\n",
              "      <td>449</td>\n",
              "      <td>1.0</td>\n",
              "      <td>1005528017</td>\n",
              "    </tr>\n",
              "    <tr>\n",
              "      <th>79924</th>\n",
              "      <td>500</td>\n",
              "      <td>471</td>\n",
              "      <td>1.0</td>\n",
              "      <td>1005528017</td>\n",
              "    </tr>\n",
              "    <tr>\n",
              "      <th>79926</th>\n",
              "      <td>500</td>\n",
              "      <td>539</td>\n",
              "      <td>1.0</td>\n",
              "      <td>1005527980</td>\n",
              "    </tr>\n",
              "    <tr>\n",
              "      <th>79931</th>\n",
              "      <td>500</td>\n",
              "      <td>597</td>\n",
              "      <td>1.0</td>\n",
              "      <td>1005527980</td>\n",
              "    </tr>\n",
              "    <tr>\n",
              "      <th>79934</th>\n",
              "      <td>500</td>\n",
              "      <td>745</td>\n",
              "      <td>1.0</td>\n",
              "      <td>1005528205</td>\n",
              "    </tr>\n",
              "    <tr>\n",
              "      <th>79939</th>\n",
              "      <td>500</td>\n",
              "      <td>1188</td>\n",
              "      <td>1.0</td>\n",
              "      <td>1005528065</td>\n",
              "    </tr>\n",
              "    <tr>\n",
              "      <th>79951</th>\n",
              "      <td>500</td>\n",
              "      <td>1824</td>\n",
              "      <td>1.0</td>\n",
              "      <td>1005527926</td>\n",
              "    </tr>\n",
              "    <tr>\n",
              "      <th>79955</th>\n",
              "      <td>500</td>\n",
              "      <td>1914</td>\n",
              "      <td>1.0</td>\n",
              "      <td>1005527980</td>\n",
              "    </tr>\n",
              "    <tr>\n",
              "      <th>79958</th>\n",
              "      <td>500</td>\n",
              "      <td>1993</td>\n",
              "      <td>1.0</td>\n",
              "      <td>1005527364</td>\n",
              "    </tr>\n",
              "    <tr>\n",
              "      <th>79971</th>\n",
              "      <td>500</td>\n",
              "      <td>2671</td>\n",
              "      <td>1.0</td>\n",
              "      <td>1005528078</td>\n",
              "    </tr>\n",
              "    <tr>\n",
              "      <th>79980</th>\n",
              "      <td>500</td>\n",
              "      <td>3083</td>\n",
              "      <td>1.0</td>\n",
              "      <td>1005528017</td>\n",
              "    </tr>\n",
              "    <tr>\n",
              "      <th>79986</th>\n",
              "      <td>500</td>\n",
              "      <td>3466</td>\n",
              "      <td>1.0</td>\n",
              "      <td>1005527926</td>\n",
              "    </tr>\n",
              "    <tr>\n",
              "      <th>79992</th>\n",
              "      <td>500</td>\n",
              "      <td>4873</td>\n",
              "      <td>1.0</td>\n",
              "      <td>1005528205</td>\n",
              "    </tr>\n",
              "  </tbody>\n",
              "</table>\n",
              "</div>"
            ],
            "text/plain": [
              "       userId  movieId  rating   timestamp\n",
              "79908     500       11     1.0  1005528017\n",
              "79909     500       39     1.0  1005527926\n",
              "79910     500      101     1.0  1005527980\n",
              "79915     500      231     1.0  1005528039\n",
              "79923     500      449     1.0  1005528017\n",
              "79924     500      471     1.0  1005528017\n",
              "79926     500      539     1.0  1005527980\n",
              "79931     500      597     1.0  1005527980\n",
              "79934     500      745     1.0  1005528205\n",
              "79939     500     1188     1.0  1005528065\n",
              "79951     500     1824     1.0  1005527926\n",
              "79955     500     1914     1.0  1005527980\n",
              "79958     500     1993     1.0  1005527364\n",
              "79971     500     2671     1.0  1005528078\n",
              "79980     500     3083     1.0  1005528017\n",
              "79986     500     3466     1.0  1005527926\n",
              "79992     500     4873     1.0  1005528205"
            ]
          },
          "metadata": {
            "tags": []
          },
          "execution_count": 8
        }
      ]
    },
    {
      "cell_type": "markdown",
      "metadata": {
        "id": "P8LI-cDv6cqI",
        "colab_type": "text"
      },
      "source": [
        "\n",
        "\n",
        "Lets practice a bit more with Pandas. You can also refer to the [Pandas Dataframe API documentation.](https://pandas.pydata.org/pandas-docs/stable/reference/api/pandas.DataFrame.html)\n",
        "\n",
        "Write code to answer the following questions:\n",
        "\n",
        "**Exercise**\n",
        "\n",
        "**Q1.** How many users are there in this dataset?\n",
        "\n",
        "**Q2.** What is the average number of ratings per-user? Hint: You *could* use groupby() or describe(). Try both.\n",
        "\n",
        "**Q3.** What is the average rating across all users?\n",
        "\n"
      ]
    },
    {
      "cell_type": "code",
      "metadata": {
        "id": "KmU3cFjE6aZS",
        "colab_type": "code",
        "outputId": "493860bf-d581-4bef-eabf-9a92a2db4a8e",
        "colab": {
          "base_uri": "https://localhost:8080/",
          "height": 527
        }
      },
      "source": [
        "\n",
        "\n",
        "# Q1: The number of the users:\n",
        "num_users = ratings_df['userId'].nunique()\n",
        "print('The number of the users is: %d'%num_users)\n",
        "\n",
        "# Q2: The average number of ratings\n",
        "\n",
        "# groupby()\n",
        "user_means = ratings_df.groupby('userId')['rating'].mean()\n",
        "print(user_means)\n",
        "\n",
        "# describe()\n",
        "\n",
        "user_means = ratings_df.groupby('userId')['rating'].describe()\n",
        "print(user_means)\n",
        "\n",
        "# Q3: The average rating across all users\n",
        "\n",
        "all_means = ratings_df['rating'].mean()\n",
        "print('The average rating across all users is %.4f'%all_means)"
      ],
      "execution_count": 0,
      "outputs": [
        {
          "output_type": "stream",
          "text": [
            "The number of the users is: 610\n",
            "userId\n",
            "1      4.366379\n",
            "2      3.948276\n",
            "3      2.435897\n",
            "4      3.555556\n",
            "5      3.636364\n",
            "         ...   \n",
            "606    3.657399\n",
            "607    3.786096\n",
            "608    3.134176\n",
            "609    3.270270\n",
            "610    3.688556\n",
            "Name: rating, Length: 610, dtype: float64\n",
            "         count      mean       std  min  25%  50%   75%  max\n",
            "userId                                                      \n",
            "1        232.0  4.366379  0.800048  1.0  4.0  5.0  5.00  5.0\n",
            "2         29.0  3.948276  0.805615  2.0  3.5  4.0  4.50  5.0\n",
            "3         39.0  2.435897  2.090642  0.5  0.5  0.5  4.75  5.0\n",
            "4        216.0  3.555556  1.314204  1.0  3.0  4.0  5.00  5.0\n",
            "5         44.0  3.636364  0.990441  1.0  3.0  4.0  4.00  5.0\n",
            "...        ...       ...       ...  ...  ...  ...   ...  ...\n",
            "606     1115.0  3.657399  0.724121  0.5  3.5  4.0  4.00  5.0\n",
            "607      187.0  3.786096  0.965657  1.0  3.0  4.0  5.00  5.0\n",
            "608      831.0  3.134176  1.079262  0.5  2.5  3.0  4.00  5.0\n",
            "609       37.0  3.270270  0.450225  3.0  3.0  3.0  4.00  4.0\n",
            "610     1302.0  3.688556  0.857422  0.5  3.0  3.5  4.50  5.0\n",
            "\n",
            "[610 rows x 8 columns]\n",
            "The average rating across all users is 3.5016\n"
          ],
          "name": "stdout"
        }
      ]
    },
    {
      "cell_type": "markdown",
      "metadata": {
        "id": "UOrEA21uN1zL",
        "colab_type": "text"
      },
      "source": [
        "Lets try something else. We can see what movies a given user has rated by \"merging\" the two dataframes - this equates to a JOIN in SQL. Lets do this for userId 556.\n"
      ]
    },
    {
      "cell_type": "code",
      "metadata": {
        "id": "M73Di67MN2Jk",
        "colab_type": "code",
        "outputId": "831827c0-81c4-4dce-a58a-b6b236eea806",
        "colab": {
          "base_uri": "https://localhost:8080/",
          "height": 1000
        }
      },
      "source": [
        "pd.merge(\n",
        "    ratings_df[ratings_df[\"userId\"]==556], \n",
        "    movies_df, \n",
        "    on=[\"movieId\"]).sort_values(by=\"rating\", ascending=False)"
      ],
      "execution_count": 0,
      "outputs": [
        {
          "output_type": "execute_result",
          "data": {
            "text/html": [
              "<div>\n",
              "<style scoped>\n",
              "    .dataframe tbody tr th:only-of-type {\n",
              "        vertical-align: middle;\n",
              "    }\n",
              "\n",
              "    .dataframe tbody tr th {\n",
              "        vertical-align: top;\n",
              "    }\n",
              "\n",
              "    .dataframe thead th {\n",
              "        text-align: right;\n",
              "    }\n",
              "</style>\n",
              "<table border=\"1\" class=\"dataframe\">\n",
              "  <thead>\n",
              "    <tr style=\"text-align: right;\">\n",
              "      <th></th>\n",
              "      <th>userId</th>\n",
              "      <th>movieId</th>\n",
              "      <th>rating</th>\n",
              "      <th>timestamp</th>\n",
              "      <th>title</th>\n",
              "      <th>genres</th>\n",
              "    </tr>\n",
              "  </thead>\n",
              "  <tbody>\n",
              "    <tr>\n",
              "      <th>0</th>\n",
              "      <td>556</td>\n",
              "      <td>588</td>\n",
              "      <td>5.0</td>\n",
              "      <td>1534321062</td>\n",
              "      <td>Aladdin (1992)</td>\n",
              "      <td>Adventure|Animation|Children|Comedy|Musical</td>\n",
              "    </tr>\n",
              "    <tr>\n",
              "      <th>2</th>\n",
              "      <td>556</td>\n",
              "      <td>4896</td>\n",
              "      <td>5.0</td>\n",
              "      <td>1534320962</td>\n",
              "      <td>Harry Potter and the Sorcerer's Stone (a.k.a. ...</td>\n",
              "      <td>Adventure|Children|Fantasy</td>\n",
              "    </tr>\n",
              "    <tr>\n",
              "      <th>27</th>\n",
              "      <td>556</td>\n",
              "      <td>112852</td>\n",
              "      <td>5.0</td>\n",
              "      <td>1534321287</td>\n",
              "      <td>Guardians of the Galaxy (2014)</td>\n",
              "      <td>Action|Adventure|Sci-Fi</td>\n",
              "    </tr>\n",
              "    <tr>\n",
              "      <th>21</th>\n",
              "      <td>556</td>\n",
              "      <td>76093</td>\n",
              "      <td>5.0</td>\n",
              "      <td>1534320965</td>\n",
              "      <td>How to Train Your Dragon (2010)</td>\n",
              "      <td>Adventure|Animation|Children|Fantasy|IMAX</td>\n",
              "    </tr>\n",
              "    <tr>\n",
              "      <th>3</th>\n",
              "      <td>556</td>\n",
              "      <td>4993</td>\n",
              "      <td>4.5</td>\n",
              "      <td>1534320935</td>\n",
              "      <td>Lord of the Rings: The Fellowship of the Ring,...</td>\n",
              "      <td>Adventure|Fantasy</td>\n",
              "    </tr>\n",
              "    <tr>\n",
              "      <th>4</th>\n",
              "      <td>556</td>\n",
              "      <td>5816</td>\n",
              "      <td>4.5</td>\n",
              "      <td>1534320982</td>\n",
              "      <td>Harry Potter and the Chamber of Secrets (2002)</td>\n",
              "      <td>Adventure|Fantasy</td>\n",
              "    </tr>\n",
              "    <tr>\n",
              "      <th>23</th>\n",
              "      <td>556</td>\n",
              "      <td>88125</td>\n",
              "      <td>4.5</td>\n",
              "      <td>1534320986</td>\n",
              "      <td>Harry Potter and the Deathly Hallows: Part 2 (...</td>\n",
              "      <td>Action|Adventure|Drama|Fantasy|Mystery|IMAX</td>\n",
              "    </tr>\n",
              "    <tr>\n",
              "      <th>13</th>\n",
              "      <td>556</td>\n",
              "      <td>49649</td>\n",
              "      <td>4.5</td>\n",
              "      <td>1534321075</td>\n",
              "      <td>Eragon (2006)</td>\n",
              "      <td>Action|Adventure|Fantasy</td>\n",
              "    </tr>\n",
              "    <tr>\n",
              "      <th>18</th>\n",
              "      <td>556</td>\n",
              "      <td>72998</td>\n",
              "      <td>4.0</td>\n",
              "      <td>1534321171</td>\n",
              "      <td>Avatar (2009)</td>\n",
              "      <td>Action|Adventure|Sci-Fi|IMAX</td>\n",
              "    </tr>\n",
              "    <tr>\n",
              "      <th>30</th>\n",
              "      <td>556</td>\n",
              "      <td>162600</td>\n",
              "      <td>4.0</td>\n",
              "      <td>1534321200</td>\n",
              "      <td>Miss Peregrine's Home for Peculiar Children (2...</td>\n",
              "      <td>Fantasy</td>\n",
              "    </tr>\n",
              "    <tr>\n",
              "      <th>29</th>\n",
              "      <td>556</td>\n",
              "      <td>122890</td>\n",
              "      <td>4.0</td>\n",
              "      <td>1534321026</td>\n",
              "      <td>Warcraft (2016)</td>\n",
              "      <td>Action|Adventure|Fantasy</td>\n",
              "    </tr>\n",
              "    <tr>\n",
              "      <th>28</th>\n",
              "      <td>556</td>\n",
              "      <td>118997</td>\n",
              "      <td>4.0</td>\n",
              "      <td>1534321209</td>\n",
              "      <td>Into the Woods (2014)</td>\n",
              "      <td>Children|Comedy|Fantasy|Musical</td>\n",
              "    </tr>\n",
              "    <tr>\n",
              "      <th>26</th>\n",
              "      <td>556</td>\n",
              "      <td>98809</td>\n",
              "      <td>4.0</td>\n",
              "      <td>1534320967</td>\n",
              "      <td>Hobbit: An Unexpected Journey, The (2012)</td>\n",
              "      <td>Adventure|Fantasy|IMAX</td>\n",
              "    </tr>\n",
              "    <tr>\n",
              "      <th>24</th>\n",
              "      <td>556</td>\n",
              "      <td>93363</td>\n",
              "      <td>4.0</td>\n",
              "      <td>1534321171</td>\n",
              "      <td>John Carter (2012)</td>\n",
              "      <td>Action|Adventure|Sci-Fi|IMAX</td>\n",
              "    </tr>\n",
              "    <tr>\n",
              "      <th>22</th>\n",
              "      <td>556</td>\n",
              "      <td>78105</td>\n",
              "      <td>4.0</td>\n",
              "      <td>1534321036</td>\n",
              "      <td>Prince of Persia: The Sands of Time (2010)</td>\n",
              "      <td>Action|Adventure|Fantasy|Romance|IMAX</td>\n",
              "    </tr>\n",
              "    <tr>\n",
              "      <th>20</th>\n",
              "      <td>556</td>\n",
              "      <td>74789</td>\n",
              "      <td>4.0</td>\n",
              "      <td>1534321017</td>\n",
              "      <td>Alice in Wonderland (2010)</td>\n",
              "      <td>Adventure|Fantasy|IMAX</td>\n",
              "    </tr>\n",
              "    <tr>\n",
              "      <th>31</th>\n",
              "      <td>556</td>\n",
              "      <td>187031</td>\n",
              "      <td>4.0</td>\n",
              "      <td>1534321194</td>\n",
              "      <td>Jurassic World: Fallen Kingdom (2018)</td>\n",
              "      <td>Action|Adventure|Drama|Sci-Fi|Thriller</td>\n",
              "    </tr>\n",
              "    <tr>\n",
              "      <th>1</th>\n",
              "      <td>556</td>\n",
              "      <td>3081</td>\n",
              "      <td>4.0</td>\n",
              "      <td>1534321047</td>\n",
              "      <td>Sleepy Hollow (1999)</td>\n",
              "      <td>Fantasy|Horror|Mystery|Romance</td>\n",
              "    </tr>\n",
              "    <tr>\n",
              "      <th>15</th>\n",
              "      <td>556</td>\n",
              "      <td>56171</td>\n",
              "      <td>4.0</td>\n",
              "      <td>1534321207</td>\n",
              "      <td>Golden Compass, The (2007)</td>\n",
              "      <td>Adventure|Children|Fantasy</td>\n",
              "    </tr>\n",
              "    <tr>\n",
              "      <th>14</th>\n",
              "      <td>556</td>\n",
              "      <td>54001</td>\n",
              "      <td>4.0</td>\n",
              "      <td>1534321024</td>\n",
              "      <td>Harry Potter and the Order of the Phoenix (2007)</td>\n",
              "      <td>Adventure|Drama|Fantasy|IMAX</td>\n",
              "    </tr>\n",
              "    <tr>\n",
              "      <th>12</th>\n",
              "      <td>556</td>\n",
              "      <td>48394</td>\n",
              "      <td>4.0</td>\n",
              "      <td>1534320956</td>\n",
              "      <td>Pan's Labyrinth (Laberinto del fauno, El) (2006)</td>\n",
              "      <td>Drama|Fantasy|Thriller</td>\n",
              "    </tr>\n",
              "    <tr>\n",
              "      <th>10</th>\n",
              "      <td>556</td>\n",
              "      <td>40815</td>\n",
              "      <td>4.0</td>\n",
              "      <td>1534321013</td>\n",
              "      <td>Harry Potter and the Goblet of Fire (2005)</td>\n",
              "      <td>Adventure|Fantasy|Thriller|IMAX</td>\n",
              "    </tr>\n",
              "    <tr>\n",
              "      <th>9</th>\n",
              "      <td>556</td>\n",
              "      <td>8368</td>\n",
              "      <td>4.0</td>\n",
              "      <td>1534321009</td>\n",
              "      <td>Harry Potter and the Prisoner of Azkaban (2004)</td>\n",
              "      <td>Adventure|Fantasy|IMAX</td>\n",
              "    </tr>\n",
              "    <tr>\n",
              "      <th>8</th>\n",
              "      <td>556</td>\n",
              "      <td>7153</td>\n",
              "      <td>4.0</td>\n",
              "      <td>1534320952</td>\n",
              "      <td>Lord of the Rings: The Return of the King, The...</td>\n",
              "      <td>Action|Adventure|Drama|Fantasy</td>\n",
              "    </tr>\n",
              "    <tr>\n",
              "      <th>7</th>\n",
              "      <td>556</td>\n",
              "      <td>6754</td>\n",
              "      <td>4.0</td>\n",
              "      <td>1534321199</td>\n",
              "      <td>Underworld (2003)</td>\n",
              "      <td>Action|Fantasy|Horror</td>\n",
              "    </tr>\n",
              "    <tr>\n",
              "      <th>6</th>\n",
              "      <td>556</td>\n",
              "      <td>6539</td>\n",
              "      <td>4.0</td>\n",
              "      <td>1534321011</td>\n",
              "      <td>Pirates of the Caribbean: The Curse of the Bla...</td>\n",
              "      <td>Action|Adventure|Comedy|Fantasy</td>\n",
              "    </tr>\n",
              "    <tr>\n",
              "      <th>5</th>\n",
              "      <td>556</td>\n",
              "      <td>5952</td>\n",
              "      <td>4.0</td>\n",
              "      <td>1534320953</td>\n",
              "      <td>Lord of the Rings: The Two Towers, The (2002)</td>\n",
              "      <td>Adventure|Fantasy</td>\n",
              "    </tr>\n",
              "    <tr>\n",
              "      <th>17</th>\n",
              "      <td>556</td>\n",
              "      <td>69844</td>\n",
              "      <td>3.5</td>\n",
              "      <td>1534320977</td>\n",
              "      <td>Harry Potter and the Half-Blood Prince (2009)</td>\n",
              "      <td>Adventure|Fantasy|Mystery|Romance|IMAX</td>\n",
              "    </tr>\n",
              "    <tr>\n",
              "      <th>19</th>\n",
              "      <td>556</td>\n",
              "      <td>74530</td>\n",
              "      <td>3.5</td>\n",
              "      <td>1534321044</td>\n",
              "      <td>Percy Jackson &amp; the Olympians: The Lightning T...</td>\n",
              "      <td>Adventure|Fantasy</td>\n",
              "    </tr>\n",
              "    <tr>\n",
              "      <th>11</th>\n",
              "      <td>556</td>\n",
              "      <td>41566</td>\n",
              "      <td>3.5</td>\n",
              "      <td>1534320971</td>\n",
              "      <td>Chronicles of Narnia: The Lion, the Witch and ...</td>\n",
              "      <td>Adventure|Children|Fantasy</td>\n",
              "    </tr>\n",
              "    <tr>\n",
              "      <th>25</th>\n",
              "      <td>556</td>\n",
              "      <td>94780</td>\n",
              "      <td>3.5</td>\n",
              "      <td>1534321052</td>\n",
              "      <td>Snow White and the Huntsman (2012)</td>\n",
              "      <td>Action|Adventure|Drama</td>\n",
              "    </tr>\n",
              "    <tr>\n",
              "      <th>16</th>\n",
              "      <td>556</td>\n",
              "      <td>63992</td>\n",
              "      <td>2.5</td>\n",
              "      <td>1534321030</td>\n",
              "      <td>Twilight (2008)</td>\n",
              "      <td>Drama|Fantasy|Romance|Thriller</td>\n",
              "    </tr>\n",
              "  </tbody>\n",
              "</table>\n",
              "</div>"
            ],
            "text/plain": [
              "    userId  ...                                       genres\n",
              "0      556  ...  Adventure|Animation|Children|Comedy|Musical\n",
              "2      556  ...                   Adventure|Children|Fantasy\n",
              "27     556  ...                      Action|Adventure|Sci-Fi\n",
              "21     556  ...    Adventure|Animation|Children|Fantasy|IMAX\n",
              "3      556  ...                            Adventure|Fantasy\n",
              "4      556  ...                            Adventure|Fantasy\n",
              "23     556  ...  Action|Adventure|Drama|Fantasy|Mystery|IMAX\n",
              "13     556  ...                     Action|Adventure|Fantasy\n",
              "18     556  ...                 Action|Adventure|Sci-Fi|IMAX\n",
              "30     556  ...                                      Fantasy\n",
              "29     556  ...                     Action|Adventure|Fantasy\n",
              "28     556  ...              Children|Comedy|Fantasy|Musical\n",
              "26     556  ...                       Adventure|Fantasy|IMAX\n",
              "24     556  ...                 Action|Adventure|Sci-Fi|IMAX\n",
              "22     556  ...        Action|Adventure|Fantasy|Romance|IMAX\n",
              "20     556  ...                       Adventure|Fantasy|IMAX\n",
              "31     556  ...       Action|Adventure|Drama|Sci-Fi|Thriller\n",
              "1      556  ...               Fantasy|Horror|Mystery|Romance\n",
              "15     556  ...                   Adventure|Children|Fantasy\n",
              "14     556  ...                 Adventure|Drama|Fantasy|IMAX\n",
              "12     556  ...                       Drama|Fantasy|Thriller\n",
              "10     556  ...              Adventure|Fantasy|Thriller|IMAX\n",
              "9      556  ...                       Adventure|Fantasy|IMAX\n",
              "8      556  ...               Action|Adventure|Drama|Fantasy\n",
              "7      556  ...                        Action|Fantasy|Horror\n",
              "6      556  ...              Action|Adventure|Comedy|Fantasy\n",
              "5      556  ...                            Adventure|Fantasy\n",
              "17     556  ...       Adventure|Fantasy|Mystery|Romance|IMAX\n",
              "19     556  ...                            Adventure|Fantasy\n",
              "11     556  ...                   Adventure|Children|Fantasy\n",
              "25     556  ...                       Action|Adventure|Drama\n",
              "16     556  ...               Drama|Fantasy|Romance|Thriller\n",
              "\n",
              "[32 rows x 6 columns]"
            ]
          },
          "metadata": {
            "tags": []
          },
          "execution_count": 10
        }
      ]
    },
    {
      "cell_type": "markdown",
      "metadata": {
        "id": "B0IXWKgSOOOV",
        "colab_type": "text"
      },
      "source": [
        "This user is pretty into adventure/fantasies. \n",
        "\n",
        "NB: If the columns we are joining on dont have the same name, we can specify `left_on` and `right_on` attributes. See also the  [pd.merge()](https://pandas.pydata.org/pandas-docs/stable/reference/api/pandas.DataFrame.merge.html) documentation."
      ]
    },
    {
      "cell_type": "markdown",
      "metadata": {
        "id": "mN9DjXtHAt0A",
        "colab_type": "text"
      },
      "source": [
        "## Part 2 - Non personalised Recomendations\n",
        "\n",
        "**Exercise**\n",
        "\n",
        "**Q4.** What was the name of one of the most popular movies (i.e. provide the name of one of moveis that has the highest average ratings)?\n",
        "\n",
        "Hint: Try a GroupBy. Once you have a Series with columns [movieId, meanRating], used idxmax() to find the row with the highest average mean. You can use loc to access rows, by their \"index\". How many ratings does this movie have?\n",
        "\n"
      ]
    },
    {
      "cell_type": "code",
      "metadata": {
        "id": "HdYwbQYh6cJr",
        "colab_type": "code",
        "outputId": "f994d458-ac2e-4c03-b848-3c8676486de0",
        "colab": {
          "base_uri": "https://localhost:8080/",
          "height": 255
        }
      },
      "source": [
        "series_movies = ratings_df.groupby('movieId')['rating'].mean()\n",
        "print(series_movies)\n",
        "highestId = series_movies.idxmax()\n",
        "name = movies_df.loc[series_movies.idxmax(), 'title']\n",
        "print('The movie with the highest average ratings is: %s'%name)\n"
      ],
      "execution_count": 0,
      "outputs": [
        {
          "output_type": "stream",
          "text": [
            "movieId\n",
            "1         3.920930\n",
            "2         3.431818\n",
            "3         3.259615\n",
            "4         2.357143\n",
            "5         3.071429\n",
            "            ...   \n",
            "193581    4.000000\n",
            "193583    3.500000\n",
            "193585    3.500000\n",
            "193587    3.500000\n",
            "193609    4.000000\n",
            "Name: rating, Length: 9724, dtype: float64\n",
            "The movie with the highest average ratings is: Indian in the Cupboard, The (1995)\n"
          ],
          "name": "stdout"
        }
      ]
    },
    {
      "cell_type": "markdown",
      "metadata": {
        "id": "gp986Iu5yEF7",
        "colab_type": "text"
      },
      "source": [
        "\n",
        "Ok, but do we think this will make a good recommendations?\n",
        "\n",
        "**Q5.** How many ratings does this popular movie have?\n"
      ]
    },
    {
      "cell_type": "code",
      "metadata": {
        "id": "aiR9ukoJyigt",
        "colab_type": "code",
        "outputId": "7c8a3072-2fb1-4d95-d8b6-410dab152026",
        "colab": {
          "base_uri": "https://localhost:8080/",
          "height": 34
        }
      },
      "source": [
        "print('The number of ratings is %d'%ratings_df[ratings_df['movieId']==highestId].shape[0])"
      ],
      "execution_count": 0,
      "outputs": [
        {
          "output_type": "stream",
          "text": [
            "The number of ratings is 2\n"
          ],
          "name": "stdout"
        }
      ]
    },
    {
      "cell_type": "markdown",
      "metadata": {
        "id": "8ryQHGrwyqp8",
        "colab_type": "text"
      },
      "source": [
        "### Associations\n",
        "\n",
        "I think we can do better than recommending a highly rated but unpopular movie.\n",
        "\n",
        "Lets take all of the positive ratings (4 or 5), and find the most popular pairs of movies that users have watched.\n",
        "\n",
        "There is a lot going on there, so please take the time to break it down to understand what it does.\n"
      ]
    },
    {
      "cell_type": "code",
      "metadata": {
        "id": "_qMu58CjIvyu",
        "colab_type": "code",
        "outputId": "aff0d3c7-53f8-480f-e54f-33d614b614cd",
        "colab": {
          "base_uri": "https://localhost:8080/",
          "height": 204
        }
      },
      "source": [
        "\n",
        "\n",
        "positives=ratings_df[ratings_df[\"rating\"]>=4]\n",
        "\n",
        "#join positives with itself on userId to get all pairs of movies watched by a given user.\n",
        "\n",
        "pairs=pd.merge(positives, positives, on=[\"userId\"])\n",
        "\n",
        "\n",
        "#we only want A->B, not B->A. Use the timestamps to restrict the selected pairs\n",
        "sequences=pairs[pairs[\"timestamp_x\"] < pairs[\"timestamp_y\"]] \n",
        "\n",
        "#lets count the frequency of each pair of movies.\n",
        "paircounts=sequences[[\"movieId_x\", \"movieId_y\", \"userId\"]].groupby([\"movieId_x\", \"movieId_y\"]).count()\n",
        "\n",
        "#sort by the most popular pairs.\n",
        "pairswithcounts = paircounts.reset_index().rename(columns={\"userId\" : \"count\"}).sort_values(['count'], ascending=False)\n",
        "\n",
        "#display the top most frequent pairs\n",
        "pairswithcounts.head()"
      ],
      "execution_count": 0,
      "outputs": [
        {
          "output_type": "execute_result",
          "data": {
            "text/html": [
              "<div>\n",
              "<style scoped>\n",
              "    .dataframe tbody tr th:only-of-type {\n",
              "        vertical-align: middle;\n",
              "    }\n",
              "\n",
              "    .dataframe tbody tr th {\n",
              "        vertical-align: top;\n",
              "    }\n",
              "\n",
              "    .dataframe thead th {\n",
              "        text-align: right;\n",
              "    }\n",
              "</style>\n",
              "<table border=\"1\" class=\"dataframe\">\n",
              "  <thead>\n",
              "    <tr style=\"text-align: right;\">\n",
              "      <th></th>\n",
              "      <th>movieId_x</th>\n",
              "      <th>movieId_y</th>\n",
              "      <th>count</th>\n",
              "    </tr>\n",
              "  </thead>\n",
              "  <tbody>\n",
              "    <tr>\n",
              "      <th>193808</th>\n",
              "      <td>318</td>\n",
              "      <td>356</td>\n",
              "      <td>104</td>\n",
              "    </tr>\n",
              "    <tr>\n",
              "      <th>176913</th>\n",
              "      <td>296</td>\n",
              "      <td>593</td>\n",
              "      <td>92</td>\n",
              "    </tr>\n",
              "    <tr>\n",
              "      <th>176624</th>\n",
              "      <td>296</td>\n",
              "      <td>47</td>\n",
              "      <td>91</td>\n",
              "    </tr>\n",
              "    <tr>\n",
              "      <th>152788</th>\n",
              "      <td>260</td>\n",
              "      <td>1196</td>\n",
              "      <td>91</td>\n",
              "    </tr>\n",
              "    <tr>\n",
              "      <th>193892</th>\n",
              "      <td>318</td>\n",
              "      <td>527</td>\n",
              "      <td>90</td>\n",
              "    </tr>\n",
              "  </tbody>\n",
              "</table>\n",
              "</div>"
            ],
            "text/plain": [
              "        movieId_x  movieId_y  count\n",
              "193808        318        356    104\n",
              "176913        296        593     92\n",
              "176624        296         47     91\n",
              "152788        260       1196     91\n",
              "193892        318        527     90"
            ]
          },
          "metadata": {
            "tags": []
          },
          "execution_count": 13
        }
      ]
    },
    {
      "cell_type": "markdown",
      "metadata": {
        "id": "ThACu3UfzjgB",
        "colab_type": "text"
      },
      "source": [
        "**Q6.**  Display the titles of the most popular movie pairs from `pairswithcounts.head()`?"
      ]
    },
    {
      "cell_type": "markdown",
      "metadata": {
        "id": "MVCr8jC5TnYj",
        "colab_type": "text"
      },
      "source": [
        ""
      ]
    },
    {
      "cell_type": "code",
      "metadata": {
        "id": "6d443uTszwBs",
        "colab_type": "code",
        "outputId": "6261071c-e0a7-408d-8a30-1ed8c317f090",
        "colab": {
          "base_uri": "https://localhost:8080/",
          "height": 34
        }
      },
      "source": [
        "movie1 = pairswithcounts.loc[pairswithcounts.head()['count'].idxmax()]['movieId_x']\n",
        "movie2 = pairswithcounts.loc[pairswithcounts.head()['count'].idxmax()]['movieId_y']\n",
        "name1 = movies_df.loc[movie1, 'title']\n",
        "name2 = movies_df.loc[movie2, 'title']\n",
        "print(name1, name2)"
      ],
      "execution_count": 0,
      "outputs": [
        {
          "output_type": "stream",
          "text": [
            "I Love Trouble (1994) Age of Innocence, The (1993)\n"
          ],
          "name": "stdout"
        }
      ]
    },
    {
      "cell_type": "markdown",
      "metadata": {
        "id": "_0tOm--0ByR6",
        "colab_type": "text"
      },
      "source": [
        "**Q7.** Calculate Lift for all pairs in `paircounts` \n",
        "\n",
        "Hint: You will need to join toppairs with a dataframe containing rating counts of individual movies. A calculated column will be needed. See https://stackoverflow.com/a/12377083/9989050 for hints on how to achieve that.\n",
        "\n",
        "Finally, my solution had duplicated columns. I used this trick https://stackoverflow.com/a/40435354/9989050 to get rid of them.\n",
        "\n"
      ]
    },
    {
      "cell_type": "code",
      "metadata": {
        "id": "7CAXTgaVB98F",
        "colab_type": "code",
        "colab": {}
      },
      "source": [
        "#print(paircounts)\n",
        "#pairswithcounts.movieId_x\n",
        "moviescount_df = ratings_df.groupby('movieId').count()\n",
        "pairswithcounts.count/(moviescount_df.loc[pairswithcounts.movieId_x, 'rating']*moviescount_df.loc[pairswithcounts.movieId_y, 'rating'])\n",
        "\n",
        "#movies_df.loc[pairswithcounts.movieId_x, 'title']"
      ],
      "execution_count": 0,
      "outputs": []
    },
    {
      "cell_type": "markdown",
      "metadata": {
        "id": "f-i1TBXjJT7e",
        "colab_type": "text"
      },
      "source": [
        "# Ok, that's it. \n",
        "\n",
        "Please complete the [Moodle feedback quiz](https://moodle.gla.ac.uk/mod/feedback/view.php?id=1441777) for this lab.\n"
      ]
    },
    {
      "cell_type": "code",
      "metadata": {
        "id": "Iag8skv4lDuC",
        "colab_type": "code",
        "colab": {}
      },
      "source": [
        ""
      ],
      "execution_count": 0,
      "outputs": []
    }
  ]
}